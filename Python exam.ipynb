{
 "cells": [
  {
   "cell_type": "code",
   "execution_count": 1,
   "id": "457cbf9f",
   "metadata": {},
   "outputs": [],
   "source": [
    "import pandas as pd\n",
    "import numpy as np\n",
    "import seaborn as sns\n",
    "import matplotlib.pyplot as plt\n",
    "from scipy.stats import ttest_ind"
   ]
  },
  {
   "cell_type": "code",
   "execution_count": 2,
   "id": "11294188",
   "metadata": {},
   "outputs": [
    {
     "data": {
      "text/html": [
       "<div>\n",
       "<style scoped>\n",
       "    .dataframe tbody tr th:only-of-type {\n",
       "        vertical-align: middle;\n",
       "    }\n",
       "\n",
       "    .dataframe tbody tr th {\n",
       "        vertical-align: top;\n",
       "    }\n",
       "\n",
       "    .dataframe thead th {\n",
       "        text-align: right;\n",
       "    }\n",
       "</style>\n",
       "<table border=\"1\" class=\"dataframe\">\n",
       "  <thead>\n",
       "    <tr style=\"text-align: right;\">\n",
       "      <th></th>\n",
       "      <th>Field_ID</th>\n",
       "      <th>Elevation</th>\n",
       "      <th>Rainfall</th>\n",
       "      <th>Min_temperature_C</th>\n",
       "      <th>Max_temperature_C</th>\n",
       "      <th>pH</th>\n",
       "      <th>Pollution_level</th>\n",
       "      <th>Plot_size</th>\n",
       "      <th>Annual_yield</th>\n",
       "      <th>Crop_type</th>\n",
       "    </tr>\n",
       "  </thead>\n",
       "  <tbody>\n",
       "    <tr>\n",
       "      <th>0</th>\n",
       "      <td>1162</td>\n",
       "      <td>494.95615</td>\n",
       "      <td>1507.6</td>\n",
       "      <td>-5.4</td>\n",
       "      <td>31.0</td>\n",
       "      <td>6.859436</td>\n",
       "      <td>0.007034</td>\n",
       "      <td>3.6</td>\n",
       "      <td>1.617421</td>\n",
       "      <td>coffee</td>\n",
       "    </tr>\n",
       "    <tr>\n",
       "      <th>1</th>\n",
       "      <td>5108</td>\n",
       "      <td>663.73390</td>\n",
       "      <td>581.0</td>\n",
       "      <td>-4.7</td>\n",
       "      <td>30.9</td>\n",
       "      <td>5.603219</td>\n",
       "      <td>0.289643</td>\n",
       "      <td>4.2</td>\n",
       "      <td>2.532497</td>\n",
       "      <td>potato</td>\n",
       "    </tr>\n",
       "    <tr>\n",
       "      <th>2</th>\n",
       "      <td>3504</td>\n",
       "      <td>396.87990</td>\n",
       "      <td>1715.1</td>\n",
       "      <td>-6.1</td>\n",
       "      <td>31.7</td>\n",
       "      <td>5.774116</td>\n",
       "      <td>0.000409</td>\n",
       "      <td>2.6</td>\n",
       "      <td>1.262207</td>\n",
       "      <td>banana</td>\n",
       "    </tr>\n",
       "    <tr>\n",
       "      <th>3</th>\n",
       "      <td>5351</td>\n",
       "      <td>594.80370</td>\n",
       "      <td>1748.0</td>\n",
       "      <td>-4.3</td>\n",
       "      <td>33.6</td>\n",
       "      <td>6.477415</td>\n",
       "      <td>0.088777</td>\n",
       "      <td>7.9</td>\n",
       "      <td>4.351564</td>\n",
       "      <td>wheat</td>\n",
       "    </tr>\n",
       "    <tr>\n",
       "      <th>4</th>\n",
       "      <td>905</td>\n",
       "      <td>609.49800</td>\n",
       "      <td>1395.8</td>\n",
       "      <td>-4.5</td>\n",
       "      <td>31.3</td>\n",
       "      <td>5.419586</td>\n",
       "      <td>0.050023</td>\n",
       "      <td>10.8</td>\n",
       "      <td>5.034791</td>\n",
       "      <td>cassava</td>\n",
       "    </tr>\n",
       "  </tbody>\n",
       "</table>\n",
       "</div>"
      ],
      "text/plain": [
       "   Field_ID  Elevation  Rainfall  Min_temperature_C  Max_temperature_C  \\\n",
       "0      1162  494.95615    1507.6               -5.4               31.0   \n",
       "1      5108  663.73390     581.0               -4.7               30.9   \n",
       "2      3504  396.87990    1715.1               -6.1               31.7   \n",
       "3      5351  594.80370    1748.0               -4.3               33.6   \n",
       "4       905  609.49800    1395.8               -4.5               31.3   \n",
       "\n",
       "         pH  Pollution_level  Plot_size  Annual_yield Crop_type  \n",
       "0  6.859436         0.007034        3.6      1.617421    coffee  \n",
       "1  5.603219         0.289643        4.2      2.532497    potato  \n",
       "2  5.774116         0.000409        2.6      1.262207    banana  \n",
       "3  6.477415         0.088777        7.9      4.351564     wheat  \n",
       "4  5.419586         0.050023       10.8      5.034791   cassava  "
      ]
     },
     "execution_count": 2,
     "metadata": {},
     "output_type": "execute_result"
    }
   ],
   "source": [
    "MD_agric_df = pd.read_csv('MD_agric_exam-4313.csv')\n",
    "\n",
    "MD_agric_df.head()"
   ]
  },
  {
   "cell_type": "markdown",
   "id": "5303330d",
   "metadata": {},
   "source": [
    "# Write code to determine the number of unique crop types in the dataset?"
   ]
  },
  {
   "cell_type": "code",
   "execution_count": 3,
   "id": "f7050817",
   "metadata": {},
   "outputs": [
    {
     "name": "stdout",
     "output_type": "stream",
     "text": [
      "The number of unique crop types in the dataset is: 8\n"
     ]
    }
   ],
   "source": [
    "unique_crop = MD_agric_df['Crop_type'].unique()\n",
    "len_unique_crop = len(unique_crop)\n",
    "print(f\"The number of unique crop types in the dataset is: {len_unique_crop}\")"
   ]
  },
  {
   "cell_type": "markdown",
   "id": "399b710b",
   "metadata": {},
   "source": [
    "# Identify the maximum annual yield for \"wheat\" crop type in the dataset (rounded to 2 decimal places)."
   ]
  },
  {
   "cell_type": "code",
   "execution_count": 4,
   "id": "734b9cea",
   "metadata": {},
   "outputs": [
    {
     "name": "stdout",
     "output_type": "stream",
     "text": [
      "The maximum annual yield for wheat crop type is: 8.99\n"
     ]
    }
   ],
   "source": [
    "wheat_df = MD_agric_df[MD_agric_df['Crop_type'] == 'wheat']\n",
    "wheat_max = wheat_df['Annual_yield'].max()\n",
    "print(f\"The maximum annual yield for wheat crop type is: {round(wheat_max, 2)}\")"
   ]
  },
  {
   "cell_type": "markdown",
   "id": "05da9c63",
   "metadata": {},
   "source": [
    "# Find the total rainfall for crop types where the average pollution level is above 0.2."
   ]
  },
  {
   "cell_type": "code",
   "execution_count": 5,
   "id": "1a6a5447",
   "metadata": {},
   "outputs": [
    {
     "name": "stdout",
     "output_type": "stream",
     "text": [
      "Total rainfall for crop types where the average pollution level is above 0.2: 941959.7\n"
     ]
    }
   ],
   "source": [
    "filtered_df = MD_agric_df.groupby('Crop_type').filter(lambda x: x['Pollution_level'].mean() > 0.2)\n",
    "\n",
    "# Calculate the total rainfall for the filtered crop types\n",
    "total_rainfall = filtered_df['Rainfall'].sum()\n",
    "print(f\"Total rainfall for crop types where the average pollution level is above 0.2: {total_rainfall}\")"
   ]
  },
  {
   "cell_type": "markdown",
   "id": "e1fbca69",
   "metadata": {},
   "source": [
    "# Write a function to calculate the temperature range (Max_temperature_C - Min_temperature_C) for each farmer's field. Then, call the function with the following `Field_ID`: `1458`, `1895`, and `5443`. What are the results of these 3 calls?"
   ]
  },
  {
   "cell_type": "code",
   "execution_count": 6,
   "id": "8479b818",
   "metadata": {},
   "outputs": [],
   "source": [
    "def calculate_temperature_range(df, field_id):\n",
    "    field_data = df[df['Field_ID'] == field_id]\n",
    "    \n",
    "    if field_data.empty:\n",
    "        return f'No data found for Field_ID: {field_id}'\n",
    "    \n",
    "    max_temp = field_data['Max_temperature_C']\n",
    "    min_temp = field_data['Min_temperature_C']\n",
    "    \n",
    "    temperature_range = max_temp - min_temp\n",
    "    return temperature_range"
   ]
  },
  {
   "cell_type": "code",
   "execution_count": 7,
   "id": "1fce86e9",
   "metadata": {},
   "outputs": [
    {
     "name": "stdout",
     "output_type": "stream",
     "text": [
      "135    40.7\n",
      "dtype: float64\n",
      "644    35.7\n",
      "dtype: float64\n",
      "892    33.4\n",
      "dtype: float64\n"
     ]
    }
   ],
   "source": [
    "print(calculate_temperature_range(MD_agric_df, 1458))\n",
    "print(calculate_temperature_range(MD_agric_df, 1895))\n",
    "print(calculate_temperature_range(MD_agric_df, 5443))"
   ]
  },
  {
   "cell_type": "markdown",
   "id": "f075f1ed",
   "metadata": {},
   "source": [
    "# Write code that identifies the crop type with the lowest average minimum temperature."
   ]
  },
  {
   "cell_type": "code",
   "execution_count": 8,
   "id": "cb735461",
   "metadata": {},
   "outputs": [
    {
     "name": "stdout",
     "output_type": "stream",
     "text": [
      "The crop with the lowest average minimum temprerature is: rice\n"
     ]
    }
   ],
   "source": [
    "a = MD_agric_df['Crop_type'].unique()\n",
    "\n",
    "b = float('inf')\n",
    "\n",
    "c = ''\n",
    "\n",
    "for crop in a:\n",
    "\n",
    "    d = MD_agric_df[MD_agric_df['Crop_type'] == crop]['Min_temperature_C'].mean()\n",
    "\n",
    "    if d < b:\n",
    "\n",
    "        b = d\n",
    "\n",
    "        c = crop\n",
    "\n",
    "print(f\"The crop with the lowest average minimum temprerature is: {c}\")"
   ]
  },
  {
   "cell_type": "markdown",
   "id": "c81ae9d2",
   "metadata": {},
   "source": [
    "# Write code to calculate the total plot size for plots where the pH is less than 5.5."
   ]
  },
  {
   "cell_type": "code",
   "execution_count": 9,
   "id": "03a69f52",
   "metadata": {},
   "outputs": [
    {
     "name": "stdout",
     "output_type": "stream",
     "text": [
      "Total plot size for plots where the pH is less than 5.5 : 1731.8999999999999\n"
     ]
    }
   ],
   "source": [
    "#pH\tPollution_level\tPlot_size\n",
    "total_plot_size_low_ph = MD_agric_df[MD_agric_df['pH'] < 5.5]['Plot_size'].sum()\n",
    "print(f\"Total plot size for plots where the pH is less than 5.5 : {total_plot_size_low_ph}\")"
   ]
  },
  {
   "cell_type": "markdown",
   "id": "5e3dd93c",
   "metadata": {},
   "source": [
    "# Using Pandas, create a dataframe that includes entries with a 'Min_temperature_C’< -5 and a 'Max_temperature_C' > 30. How many rows are in the filtered dataset?"
   ]
  },
  {
   "cell_type": "code",
   "execution_count": 10,
   "id": "ef4e6950",
   "metadata": {},
   "outputs": [
    {
     "data": {
      "text/plain": [
       "319"
      ]
     },
     "execution_count": 10,
     "metadata": {},
     "output_type": "execute_result"
    }
   ],
   "source": [
    "filtered_MD_agric = MD_agric_df[(MD_agric_df['Min_temperature_C'] < -5) & (MD_agric_df['Max_temperature_C'] > 30)]\n",
    "filtered_MD_agric.shape[0]"
   ]
  },
  {
   "cell_type": "markdown",
   "id": "4ebbe83d",
   "metadata": {},
   "source": [
    "# Using Numpy, calculate the standard deviation of the 'Rainfall' for plots where the 'Plot_size' is larger than the median plot size of the dataset (round to 2 decimal places).\n",
    "\n"
   ]
  },
  {
   "cell_type": "code",
   "execution_count": 11,
   "id": "8eb7294c",
   "metadata": {},
   "outputs": [
    {
     "name": "stdout",
     "output_type": "stream",
     "text": [
      "The median plot size is 2.9\n",
      "\n",
      "The standard deviation of Rainfall for plots with Plot_size larger than the median is: 469.62\n"
     ]
    }
   ],
   "source": [
    "median_plot_size = MD_agric_df['Plot_size'].median()\n",
    "print(f\"The median plot size is {median_plot_size}\\n\")\n",
    "\n",
    "# Select rows where Plot_size is larger than the median plot size\n",
    "filtered_df = MD_agric_df[MD_agric_df['Plot_size'] > median_plot_size]\n",
    "\n",
    "# Calculate the standard deviation of Rainfall for the selected plots\n",
    "rainfall_std_dev = np.std(filtered_df['Rainfall'])\n",
    "\n",
    "# Round the result to 2 decimal places\n",
    "rainfall_std_dev_rounded = round(rainfall_std_dev, 2)\n",
    "\n",
    "print(f'The standard deviation of Rainfall for plots with Plot_size larger than the median is: {rainfall_std_dev_rounded}')"
   ]
  },
  {
   "cell_type": "markdown",
   "id": "cfa5c52b",
   "metadata": {},
   "source": [
    "# If you concatenate the first three digits of the most common ‘Max_temperature_C’ with the last three letters of the least common 'Crop_type', what string do you get?\n",
    "Note: Use the first mode if there are multiple modes"
   ]
  },
  {
   "cell_type": "code",
   "execution_count": 12,
   "id": "740b43ac",
   "metadata": {},
   "outputs": [
    {
     "name": "stdout",
     "output_type": "stream",
     "text": [
      "30.7\n",
      "30\n",
      "rice\n",
      "ice\n",
      "The result string is: 30ice\n"
     ]
    }
   ],
   "source": [
    "max_temp_mode = MD_agric_df['Max_temperature_C'].mode().iloc[0]\n",
    "print(max_temp_mode)\n",
    "# Take the first three digits of the most common 'Max_temperature_C'\n",
    "first_three_digits = str(int(max_temp_mode))[:3]\n",
    "print(first_three_digits)\n",
    "# Find the least common 'Crop_type'\n",
    "least_common_crop = MD_agric_df['Crop_type'].value_counts().idxmin()\n",
    "print(least_common_crop)\n",
    "last_three_letters = least_common_crop[-3:]\n",
    "print(last_three_letters)\n",
    "result_string = first_three_digits + last_three_letters\n",
    "\n",
    "print(f'The result string is: {result_string}')"
   ]
  },
  {
   "cell_type": "markdown",
   "id": "5c4c4121",
   "metadata": {},
   "source": [
    "# Write Python code to create a violin plot visualising the distribution of 'Annual_yield' across different 'Elevation' ranges. Use the provided elevation range categories (Low: < 300m, Medium: 300m - 600m, High: > 600m) to categorise the data before plotting.  Examine the violin plot displaying the distribution of 'Annual Yield' across three elevation categories (Low, Medium, High). What insight does the violin plot provide regarding the relationship between elevation ranges and annual yield distribution?"
   ]
  },
  {
   "cell_type": "code",
   "execution_count": 13,
   "id": "99a6e4b4",
   "metadata": {},
   "outputs": [],
   "source": [
    "#function to categorise elevation ranges\n",
    "def elevation_range(x):\n",
    "    if x > 600:\n",
    "        return 'High'\n",
    "    elif (x >= 300) and (x <= 600):\n",
    "        return 'Medium'\n",
    "    else:\n",
    "        return 'Low'"
   ]
  },
  {
   "cell_type": "code",
   "execution_count": 14,
   "id": "922c14c9",
   "metadata": {},
   "outputs": [
    {
     "data": {
      "text/html": [
       "<div>\n",
       "<style scoped>\n",
       "    .dataframe tbody tr th:only-of-type {\n",
       "        vertical-align: middle;\n",
       "    }\n",
       "\n",
       "    .dataframe tbody tr th {\n",
       "        vertical-align: top;\n",
       "    }\n",
       "\n",
       "    .dataframe thead th {\n",
       "        text-align: right;\n",
       "    }\n",
       "</style>\n",
       "<table border=\"1\" class=\"dataframe\">\n",
       "  <thead>\n",
       "    <tr style=\"text-align: right;\">\n",
       "      <th></th>\n",
       "      <th>Field_ID</th>\n",
       "      <th>Elevation</th>\n",
       "      <th>Rainfall</th>\n",
       "      <th>Min_temperature_C</th>\n",
       "      <th>Max_temperature_C</th>\n",
       "      <th>pH</th>\n",
       "      <th>Pollution_level</th>\n",
       "      <th>Plot_size</th>\n",
       "      <th>Annual_yield</th>\n",
       "      <th>Crop_type</th>\n",
       "      <th>Elevation_range</th>\n",
       "    </tr>\n",
       "  </thead>\n",
       "  <tbody>\n",
       "    <tr>\n",
       "      <th>0</th>\n",
       "      <td>1162</td>\n",
       "      <td>494.95615</td>\n",
       "      <td>1507.6</td>\n",
       "      <td>-5.4</td>\n",
       "      <td>31.0</td>\n",
       "      <td>6.859436</td>\n",
       "      <td>0.007034</td>\n",
       "      <td>3.6</td>\n",
       "      <td>1.617421</td>\n",
       "      <td>coffee</td>\n",
       "      <td>Medium</td>\n",
       "    </tr>\n",
       "    <tr>\n",
       "      <th>1</th>\n",
       "      <td>5108</td>\n",
       "      <td>663.73390</td>\n",
       "      <td>581.0</td>\n",
       "      <td>-4.7</td>\n",
       "      <td>30.9</td>\n",
       "      <td>5.603219</td>\n",
       "      <td>0.289643</td>\n",
       "      <td>4.2</td>\n",
       "      <td>2.532497</td>\n",
       "      <td>potato</td>\n",
       "      <td>High</td>\n",
       "    </tr>\n",
       "    <tr>\n",
       "      <th>2</th>\n",
       "      <td>3504</td>\n",
       "      <td>396.87990</td>\n",
       "      <td>1715.1</td>\n",
       "      <td>-6.1</td>\n",
       "      <td>31.7</td>\n",
       "      <td>5.774116</td>\n",
       "      <td>0.000409</td>\n",
       "      <td>2.6</td>\n",
       "      <td>1.262207</td>\n",
       "      <td>banana</td>\n",
       "      <td>Medium</td>\n",
       "    </tr>\n",
       "    <tr>\n",
       "      <th>3</th>\n",
       "      <td>5351</td>\n",
       "      <td>594.80370</td>\n",
       "      <td>1748.0</td>\n",
       "      <td>-4.3</td>\n",
       "      <td>33.6</td>\n",
       "      <td>6.477415</td>\n",
       "      <td>0.088777</td>\n",
       "      <td>7.9</td>\n",
       "      <td>4.351564</td>\n",
       "      <td>wheat</td>\n",
       "      <td>Medium</td>\n",
       "    </tr>\n",
       "    <tr>\n",
       "      <th>4</th>\n",
       "      <td>905</td>\n",
       "      <td>609.49800</td>\n",
       "      <td>1395.8</td>\n",
       "      <td>-4.5</td>\n",
       "      <td>31.3</td>\n",
       "      <td>5.419586</td>\n",
       "      <td>0.050023</td>\n",
       "      <td>10.8</td>\n",
       "      <td>5.034791</td>\n",
       "      <td>cassava</td>\n",
       "      <td>High</td>\n",
       "    </tr>\n",
       "  </tbody>\n",
       "</table>\n",
       "</div>"
      ],
      "text/plain": [
       "   Field_ID  Elevation  Rainfall  Min_temperature_C  Max_temperature_C  \\\n",
       "0      1162  494.95615    1507.6               -5.4               31.0   \n",
       "1      5108  663.73390     581.0               -4.7               30.9   \n",
       "2      3504  396.87990    1715.1               -6.1               31.7   \n",
       "3      5351  594.80370    1748.0               -4.3               33.6   \n",
       "4       905  609.49800    1395.8               -4.5               31.3   \n",
       "\n",
       "         pH  Pollution_level  Plot_size  Annual_yield Crop_type  \\\n",
       "0  6.859436         0.007034        3.6      1.617421    coffee   \n",
       "1  5.603219         0.289643        4.2      2.532497    potato   \n",
       "2  5.774116         0.000409        2.6      1.262207    banana   \n",
       "3  6.477415         0.088777        7.9      4.351564     wheat   \n",
       "4  5.419586         0.050023       10.8      5.034791   cassava   \n",
       "\n",
       "  Elevation_range  \n",
       "0          Medium  \n",
       "1            High  \n",
       "2          Medium  \n",
       "3          Medium  \n",
       "4            High  "
      ]
     },
     "execution_count": 14,
     "metadata": {},
     "output_type": "execute_result"
    }
   ],
   "source": [
    "MD_agric_df['Elevation_range'] = MD_agric_df['Elevation'].apply(elevation_range)\n",
    "MD_agric_df.head()"
   ]
  },
  {
   "cell_type": "code",
   "execution_count": 15,
   "id": "70928474",
   "metadata": {},
   "outputs": [
    {
     "data": {
      "text/plain": [
       "<Axes: xlabel='Annual_yield', ylabel='Elevation_range'>"
      ]
     },
     "execution_count": 15,
     "metadata": {},
     "output_type": "execute_result"
    },
    {
     "data": {
      "image/png": "[encoded data removed]",
      "text/plain": [
       "<Figure size 1000x500 with 1 Axes>"
      ]
     },
     "metadata": {},
     "output_type": "display_data"
    }
   ],
   "source": [
    "plt.figure( figsize =(10 ,5))\n",
    "\n",
    "#Plot a Violin plot\n",
    "sns.violinplot(data = MD_agric_df, x = 'Annual_yield', y= \"Elevation_range\")"
   ]
  },
  {
   "cell_type": "markdown",
   "id": "7fc3088d",
   "metadata": {},
   "source": [
    "### The 'Low' elevation category shows a more consistent yield distribution with less variability compared to the 'Medium' and 'High' categories. This could indicate that lower elevations provide stable conditions for consistent agricultural output."
   ]
  },
  {
   "cell_type": "markdown",
   "id": "fb584c88",
   "metadata": {},
   "source": [
    "# Assuming each 'Crop_type' contributes an integer value equal to its length (e.g., 'wheat' contributes 5), write a recursive function to sum the integer values for each unique crop type in the dataset. What is the sum?"
   ]
  },
  {
   "cell_type": "code",
   "execution_count": 16,
   "id": "79dfba6a",
   "metadata": {},
   "outputs": [
    {
     "name": "stdout",
     "output_type": "stream",
     "text": [
      "['coffee' 'potato' 'banana' 'wheat' 'cassava' 'maize' 'tea' 'rice']\n"
     ]
    }
   ],
   "source": [
    "# Get unique crop types from the 'Crop_type' column\n",
    "unique_crop_types = MD_agric_df['Crop_type'].unique()\n",
    "print(unique_crop_types)"
   ]
  },
  {
   "cell_type": "code",
   "execution_count": 17,
   "id": "8e9f4323",
   "metadata": {},
   "outputs": [],
   "source": [
    "def recursive_crop_sum(df, index=0, crop_type_sum=0, unique_crop_types=None):\n",
    "    # Base case: if we reach the end of the unique crop types\n",
    "    if index == len(unique_crop_types):\n",
    "        return crop_type_sum\n",
    "    \n",
    "    # Get the current crop type\n",
    "    current_crop_type = unique_crop_types[index]\n",
    "    \n",
    "    # Sum the integer value based on the length of the crop type\n",
    "    crop_type_length = len(current_crop_type)\n",
    "    crop_type_sum += crop_type_length\n",
    "    \n",
    "    # Recursively call the function for the next crop type\n",
    "    return recursive_crop_sum(df, index + 1, crop_type_sum, unique_crop_types)"
   ]
  },
  {
   "cell_type": "code",
   "execution_count": 18,
   "id": "30a7b873",
   "metadata": {},
   "outputs": [
    {
     "name": "stdout",
     "output_type": "stream",
     "text": [
      "The sum of integer values for each unique crop type is: 42\n"
     ]
    }
   ],
   "source": [
    "total_crop_type_sum = recursive_crop_sum(MD_agric_df, unique_crop_types=unique_crop_types)\n",
    "\n",
    "print(f'The sum of integer values for each unique crop type is: {total_crop_type_sum}')"
   ]
  },
  {
   "cell_type": "markdown",
   "id": "456d67df",
   "metadata": {},
   "source": [
    "# Write Python code to perform a t-test comparing the average 'Annual_yield' between 'coffee' and 'banana' crop types using scipy.stats. What is the p-value, rounded to three decimal places?"
   ]
  },
  {
   "cell_type": "code",
   "execution_count": 19,
   "id": "e8e02b57",
   "metadata": {},
   "outputs": [
    {
     "name": "stdout",
     "output_type": "stream",
     "text": [
      "The p-value for the t-test is: 0.598\n"
     ]
    }
   ],
   "source": [
    "annual_yield_coffee = MD_agric_df[MD_agric_df['Crop_type'] == 'coffee']['Annual_yield']\n",
    "annual_yield_banana = MD_agric_df[MD_agric_df['Crop_type'] == 'banana']['Annual_yield']\n",
    "\n",
    "# Perform t-test\n",
    "t_statistic, p_value = ttest_ind(annual_yield_coffee, annual_yield_banana, equal_var=False)\n",
    "\n",
    "# Round the p-value to three decimal places\n",
    "rounded_p_value = round(p_value, 3)\n",
    "\n",
    "print(f'The p-value for the t-test is: {rounded_p_value}')"
   ]
  },
  {
   "cell_type": "markdown",
   "id": "fd46a4af",
   "metadata": {},
   "source": [
    "### Null Hypothesis (H₀): The null hypothesis typically assumes that there is no significant difference between the average 'Annual_yield' for 'coffee' and 'banana' crop types.\n",
    "\n",
    "### Alternative Hypothesis (H₁): The alternative hypothesis suggests that there is a significant difference between the average 'Annual_yield' for 'coffee' and 'banana' crop types."
   ]
  },
  {
   "cell_type": "markdown",
   "id": "f17e7b03",
   "metadata": {},
   "source": [
    "### A p-value of 0.598 is greater than the commonly used significance level of 0.05.\n",
    "### When the p-value is high, it suggests that the observed differences in average yields between 'coffee' and 'banana' could likely have occurred by random chance.\n",
    "### Therefore, there is not enough evidence to reject the null hypothesis."
   ]
  }
 ],
 "metadata": {
  "kernelspec": {
   "display_name": "Python 3 (ipykernel)",
   "language": "python",
   "name": "python3"
  },
  "language_info": {
   "codemirror_mode": {
    "name": "ipython",
    "version": 3
   },
   "file_extension": ".py",
   "mimetype": "text/x-python",
   "name": "python",
   "nbconvert_exporter": "python",
   "pygments_lexer": "ipython3",
   "version": "3.9.18"
  }
 },
 "nbformat": 4,
 "nbformat_minor": 5
}
